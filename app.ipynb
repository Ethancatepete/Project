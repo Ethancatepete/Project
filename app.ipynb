{
  "nbformat": 4,
  "nbformat_minor": 0,
  "metadata": {
    "colab": {
      "provenance": [],
      "mount_file_id": "1YJgPH1l30hEE-gmLwbu_5NAItu8Pr-aG",
      "authorship_tag": "ABX9TyMIK/TUtOpxc+Ud5Mk/pdKb",
      "include_colab_link": true
    },
    "kernelspec": {
      "name": "python3",
      "display_name": "Python 3"
    },
    "language_info": {
      "name": "python"
    }
  },
  "cells": [
    {
      "cell_type": "markdown",
      "metadata": {
        "id": "view-in-github",
        "colab_type": "text"
      },
      "source": [
        "<a href=\"https://colab.research.google.com/github/Ethancatepete/Project/blob/main/app.ipynb\" target=\"_parent\"><img src=\"https://colab.research.google.com/assets/colab-badge.svg\" alt=\"Open In Colab\"/></a>"
      ]
    },
    {
      "cell_type": "code",
      "execution_count": 18,
      "metadata": {
        "id": "x51Zr3Wu-sMx"
      },
      "outputs": [],
      "source": [
        "!pip install streamlit -q"
      ]
    },
    {
      "cell_type": "code",
      "source": [
        "%%writefile app.py\n",
        "import streamlit as st\n",
        "import tensorflow as tf\n",
        "import numpy as np\n",
        "from PIL import Image\n",
        "\n",
        "\n",
        "st.set_option('deprecation.showfileUploaderEncoding', False)\n",
        "\n",
        "@st.cache(allow_output_mutation=True)\n",
        "def load_model():\n",
        "\tmodel = tf.keras.models.load_model('/content/drive/MyDrive/Models/Nail_Model2.h5')\n",
        "\treturn model\n",
        "\n",
        "\n",
        "def predict_class(image, model):\n",
        "\timage = tf.cast(image, tf.float32)\n",
        "\timage = tf.image.resize(image, [128, 128])\n",
        "\timage = np.expand_dims(image, axis = 0)\n",
        "\tprediction = model.predict(image)\n",
        "\n",
        "\treturn prediction\n",
        "\n",
        "model = load_model()\n",
        "\n",
        "st.title('Nail Classifier')\n",
        "st.write(\n",
        "\t\"\"\"\n",
        "\tThis model is a one hot encoding, which detects whether you have \n",
        "\tAcral lentiginous melanoma, Beau's lines, Clubbed nails, \n",
        "  Cyanosis, Koilonychia - spoon nails, Leukonychia - white nails, \n",
        "  Paronychia, Psoriasis, Yellow Nails or Normal Nails. \n",
        "\n",
        "\t\"\"\"\n",
        ")\n",
        "\n",
        "\n",
        "\n",
        "\n",
        "file = st.file_uploader(\"Upload an image of a nail\", type=[\"jpg\", \"png\"])\n",
        "\n",
        "\n",
        "if file is None:\n",
        "\tst.text('Waiting for upload....')\n",
        "\n",
        "else:\n",
        "\tslot = st.empty()\n",
        "\tslot.text('Running inference....')\n",
        "\n",
        "\ttest_image = Image.open(file)\n",
        "\n",
        "\tst.image(test_image, caption=\"Input Image\", width = 200)\n",
        "\n",
        "\tpred = predict_class(np.asarray(test_image), model)\n",
        "\n",
        "\tnail_names = ['Acral lentiginous melanoma', \"Beau's lines\", 'Clubbed nails', \n",
        "                  'Cyanosis', 'Koilonychia - spoon nails', 'Leukonychia - white nails', \n",
        "                  'Normal Nails', 'Paronychia', 'Psoriasis', 'Yellow Nails']\n",
        "\n",
        "\n",
        "\tadvice = {\n",
        "          nail_names[0]: \"You should see a doctor urgently, as if this spreads further, you will have skin cancer.\",\n",
        "          nail_names[1]: \"You may have chronic diseases, such as uncontrolled diabetes and peripheral vascular disease.\",\n",
        "          nail_names[2]: \"You should go to a dermotologists if you are feeling unwell.\",\n",
        "          nail_names[3]: \"You do not have enough oxygen in your blood. This means that you have problems with your circulatory system.\",\n",
        "          nail_names[4]: \"You may have trauma and may have iron deficiency anemia\",\n",
        "          nail_names[5]: \"You lack calcium, zinc so you drink more milk.\",\n",
        "          nail_names[6]: \"Your nails are fine.\",\n",
        "          nail_names[7]: \"You should see a dermatologist, it means you have an infection, which will become serious.\",\n",
        "          nail_names[8]: \"This is a chronic disease. Without treatment, it can be painful, interfere with sleep and make it hard to concentrate.\",\n",
        "          nail_names[9]: \"You most likely have a respitory disease.\"\n",
        "\t\t\t\t}\n",
        "\n",
        "\n",
        "\tindex = np.argmax(pred)\n",
        "\n",
        "\toutput = (f\"The model predicts you have {nail_names[index]}; {advice.get(nail_names[index])}\")\n",
        "\n",
        "\tslot.text('Done')\n",
        "\n",
        "\tst.success(output)"
      ],
      "metadata": {
        "colab": {
          "base_uri": "https://localhost:8080/"
        },
        "id": "iohL0zhRycWf",
        "outputId": "936ca3d3-cf8e-4ef0-aa62-93ec8693ec9f"
      },
      "execution_count": 23,
      "outputs": [
        {
          "output_type": "stream",
          "name": "stdout",
          "text": [
            "Overwriting app.py\n"
          ]
        }
      ]
    },
    {
      "cell_type": "code",
      "source": [
        "!pip install pyngrok"
      ],
      "metadata": {
        "colab": {
          "base_uri": "https://localhost:8080/"
        },
        "id": "dSeT7cd3x2gt",
        "outputId": "5e1dc363-3d7f-4e05-984d-c3a64e667269"
      },
      "execution_count": 20,
      "outputs": [
        {
          "output_type": "stream",
          "name": "stdout",
          "text": [
            "Looking in indexes: https://pypi.org/simple, https://us-python.pkg.dev/colab-wheels/public/simple/\n",
            "Collecting pyngrok\n",
            "  Downloading pyngrok-5.2.1.tar.gz (761 kB)\n",
            "\u001b[2K     \u001b[90m━━━━━━━━━━━━━━━━━━━━━━━━━━━━━━━━━━━━━━\u001b[0m \u001b[32m761.3/761.3 KB\u001b[0m \u001b[31m27.0 MB/s\u001b[0m eta \u001b[36m0:00:00\u001b[0m\n",
            "\u001b[?25h  Preparing metadata (setup.py) ... \u001b[?25l\u001b[?25hdone\n",
            "Requirement already satisfied: PyYAML in /usr/local/lib/python3.8/dist-packages (from pyngrok) (6.0)\n",
            "Building wheels for collected packages: pyngrok\n",
            "  Building wheel for pyngrok (setup.py) ... \u001b[?25l\u001b[?25hdone\n",
            "  Created wheel for pyngrok: filename=pyngrok-5.2.1-py3-none-any.whl size=19792 sha256=db66b50198ea2c81ad599e75d09b2f35e2390da2bf9d29b4b1972a0e44e9a665\n",
            "  Stored in directory: /root/.cache/pip/wheels/5d/f2/70/526da675d32f17577ec47ac4c663084efe39d47c826b6c3bb1\n",
            "Successfully built pyngrok\n",
            "Installing collected packages: pyngrok\n",
            "Successfully installed pyngrok-5.2.1\n"
          ]
        }
      ]
    },
    {
      "cell_type": "code",
      "source": [
        "from pyngrok import ngrok\n",
        "ngrok.set_auth_token()#Add your token"
      ],
      "metadata": {
        "id": "G7DJwHXPzVPh"
      },
      "execution_count": 26,
      "outputs": []
    },
    {
      "cell_type": "code",
      "source": [
        "!nohup streamlit run app.py --server.port 8080 &\n",
        "url = ngrok.connect(port='8080')\n",
        "\n",
        "print(url)"
      ],
      "metadata": {
        "colab": {
          "base_uri": "https://localhost:8080/"
        },
        "id": "8Oyw1_08z232",
        "outputId": "69f0427f-6807-4293-b1a5-54e4c6251994"
      },
      "execution_count": 27,
      "outputs": [
        {
          "output_type": "stream",
          "name": "stdout",
          "text": [
            "nohup: appending output to 'nohup.out'\n",
            "NgrokTunnel: \"http://dd01-34-90-32-106.ngrok.io\" -> \"http://localhost:80\"\n"
          ]
        }
      ]
    },
    {
      "cell_type": "code",
      "source": [
        "ngrok.kill()"
      ],
      "metadata": {
        "id": "0IeXfmhR2FlA"
      },
      "execution_count": 25,
      "outputs": []
    }
  ]
}